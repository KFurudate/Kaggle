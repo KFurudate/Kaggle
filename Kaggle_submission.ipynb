{
  "nbformat": 4,
  "nbformat_minor": 0,
  "metadata": {
    "colab": {
      "name": "Kaggle_submission.ipynb",
      "provenance": [],
      "collapsed_sections": [],
      "authorship_tag": "ABX9TyNOrjwuM4zTI6NZxEhmm4hA",
      "include_colab_link": true
    },
    "kernelspec": {
      "name": "python3",
      "display_name": "Python 3"
    }
  },
  "cells": [
    {
      "cell_type": "markdown",
      "metadata": {
        "id": "view-in-github",
        "colab_type": "text"
      },
      "source": [
        "<a href=\"https://colab.research.google.com/github/KFurudate/Kaggle/blob/master/Kaggle_submission.ipynb\" target=\"_parent\"><img src=\"https://colab.research.google.com/assets/colab-badge.svg\" alt=\"Open In Colab\"/></a>"
      ]
    },
    {
      "cell_type": "code",
      "metadata": {
        "id": "At96XpGwwWAU",
        "colab_type": "code",
        "colab": {}
      },
      "source": [
        "from google.colab import drive\n",
        "drive.mount('/content/drive')"
      ],
      "execution_count": 0,
      "outputs": []
    },
    {
      "cell_type": "code",
      "metadata": {
        "id": "zk68P4Tfw6uL",
        "colab_type": "code",
        "colab": {}
      },
      "source": [
        "# submit the file to kaggle\n",
        "! mkdir -p ~/.kaggle\n",
        "! cp /content/drive/My\\ Drive/Kaggle/kaggle.json ~/.kaggle/\n",
        "! chmod 600 ~/.kaggle/kaggle.json\n",
        "! pip install -q kaggle"
      ],
      "execution_count": 0,
      "outputs": []
    },
    {
      "cell_type": "code",
      "metadata": {
        "id": "8c563OXQxDEQ",
        "colab_type": "code",
        "colab": {}
      },
      "source": [
        "! kaggle competitions list"
      ],
      "execution_count": 0,
      "outputs": []
    },
    {
      "cell_type": "code",
      "metadata": {
        "id": "m8pSD9svxR0S",
        "colab_type": "code",
        "colab": {}
      },
      "source": [
        "! kaggle competitions submit -c *competition_name* -f *.csv -m \"Yeah! I submit my file through the Google Colab!\""
      ],
      "execution_count": 0,
      "outputs": []
    }
  ]
}
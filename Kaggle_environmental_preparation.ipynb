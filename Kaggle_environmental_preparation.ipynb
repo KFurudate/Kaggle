{
  "nbformat": 4,
  "nbformat_minor": 0,
  "metadata": {
    "colab": {
      "name": "Kaggle_environmental_preparation.ipynb",
      "provenance": [],
      "collapsed_sections": [],
      "authorship_tag": "ABX9TyM9VpXmvXfQYk4T+N4NQ+s3",
      "include_colab_link": true
    },
    "kernelspec": {
      "name": "python3",
      "display_name": "Python 3"
    }
  },
  "cells": [
    {
      "cell_type": "markdown",
      "metadata": {
        "id": "view-in-github",
        "colab_type": "text"
      },
      "source": [
        "<a href=\"https://colab.research.google.com/github/KFurudate/Kaggle-with-colab/blob/master/Kaggle_environmental_preparation.ipynb\" target=\"_parent\"><img src=\"https://colab.research.google.com/assets/colab-badge.svg\" alt=\"Open In Colab\"/></a>"
      ]
    },
    {
      "cell_type": "code",
      "metadata": {
        "id": "lkapD68m3I3m",
        "colab_type": "code",
        "colab": {
          "base_uri": "https://localhost:8080/",
          "height": 126
        },
        "outputId": "9df2f1f6-f8e4-4c76-b9e9-a6e71b3fbe77"
      },
      "source": [
        "from google.colab import drive\n",
        "drive.mount('/content/drive')"
      ],
      "execution_count": 1,
      "outputs": [
        {
          "output_type": "stream",
          "text": [
            "Go to this URL in a browser: https://accounts.google.com/o/oauth2/auth?client_id=947318989803-6bn6qk8qdgf4n4g3pfee6491hc0brc4i.apps.googleusercontent.com&redirect_uri=urn%3aietf%3awg%3aoauth%3a2.0%3aoob&response_type=code&scope=email%20https%3a%2f%2fwww.googleapis.com%2fauth%2fdocs.test%20https%3a%2f%2fwww.googleapis.com%2fauth%2fdrive%20https%3a%2f%2fwww.googleapis.com%2fauth%2fdrive.photos.readonly%20https%3a%2f%2fwww.googleapis.com%2fauth%2fpeopleapi.readonly\n",
            "\n",
            "Enter your authorization code:\n",
            "··········\n",
            "Mounted at /content/drive\n"
          ],
          "name": "stdout"
        }
      ]
    },
    {
      "cell_type": "code",
      "metadata": {
        "id": "dzZf5l5i5DFA",
        "colab_type": "code",
        "colab": {}
      },
      "source": [
        "PATH=\"/content/drive/My\\ Drive/Kaggle/\""
      ],
      "execution_count": 6,
      "outputs": []
    },
    {
      "cell_type": "code",
      "metadata": {
        "id": "fmGJXz-a3gT9",
        "colab_type": "code",
        "colab": {
          "base_uri": "https://localhost:8080/",
          "height": 160
        },
        "outputId": "59464202-f2f3-4bf5-f08f-409940a42273"
      },
      "source": [
        "! ls $PATH"
      ],
      "execution_count": 7,
      "outputs": [
        {
          "output_type": "stream",
          "text": [
            "IEEE\n",
            "Ion_Switching_University_of_Liverpool\n",
            "kaggle.json\n",
            "m5-forecasting-accuracy\n",
            "PANDA_Prostate_cANcer_graDe_Assessment_Cgallenge\n",
            "Plant_Pathology_2020\n",
            "TReNDS_Neuroimaging\n",
            "utils\n"
          ],
          "name": "stdout"
        }
      ]
    },
    {
      "cell_type": "code",
      "metadata": {
        "id": "2_sCN33p3iNL",
        "colab_type": "code",
        "colab": {}
      },
      "source": [
        "! mkdir -p ~/.kaggle\n",
        "! cp $PATH/kaggle.json ~/.kaggle/\n",
        "! chmod 600 ~/.kaggle/kaggle.json"
      ],
      "execution_count": 9,
      "outputs": []
    },
    {
      "cell_type": "code",
      "metadata": {
        "id": "roDLcYuU3jxR",
        "colab_type": "code",
        "colab": {}
      },
      "source": [
        "! pip install -q kaggle"
      ],
      "execution_count": 10,
      "outputs": []
    },
    {
      "cell_type": "code",
      "metadata": {
        "id": "aEnkg8pj3oUb",
        "colab_type": "code",
        "colab": {
          "base_uri": "https://localhost:8080/",
          "height": 430
        },
        "outputId": "9148b7c6-8391-4d55-8aca-92f69dc94015"
      },
      "source": [
        "! kaggle competitions list"
      ],
      "execution_count": 11,
      "outputs": [
        {
          "output_type": "stream",
          "text": [
            "Warning: Looks like you're using an outdated API Version, please consider updating (server 1.5.6 / client 1.5.4)\n",
            "ref                                               deadline             category            reward  teamCount  userHasEntered  \n",
            "------------------------------------------------  -------------------  ---------------  ---------  ---------  --------------  \n",
            "tpu-getting-started                               2030-06-03 23:59:00  Getting Started      Kudos         57           False  \n",
            "digit-recognizer                                  2030-01-01 00:00:00  Getting Started  Knowledge       3448            True  \n",
            "titanic                                           2030-01-01 00:00:00  Getting Started  Knowledge      26128            True  \n",
            "house-prices-advanced-regression-techniques       2030-01-01 00:00:00  Getting Started  Knowledge       5866           False  \n",
            "connectx                                          2030-01-01 00:00:00  Getting Started  Knowledge        588           False  \n",
            "nlp-getting-started                               2030-01-01 00:00:00  Getting Started      Kudos       1851           False  \n",
            "competitive-data-science-predict-future-sales     2020-12-31 23:59:00  Playground           Kudos       7439           False  \n",
            "halite                                            2020-09-15 23:59:00  Featured              Swag        324           False  \n",
            "birdsong-recognition                              2020-09-15 23:59:00  Research           $25,000        125           False  \n",
            "siim-isic-melanoma-classification                 2020-08-17 23:59:00  Featured           $30,000       1240            True  \n",
            "global-wheat-detection                            2020-08-04 23:59:00  Research           $15,000       1032           False  \n",
            "open-images-object-detection-rvc-2020             2020-07-31 16:00:00  Playground       Knowledge         37           False  \n",
            "open-images-instance-segmentation-rvc-2020        2020-07-31 16:00:00  Playground       Knowledge          7           False  \n",
            "hashcode-photo-slideshow                          2020-07-27 23:59:00  Playground       Knowledge         42           False  \n",
            "prostate-cancer-grade-assessment                  2020-07-22 23:59:00  Featured           $25,000        634            True  \n",
            "alaska2-image-steganalysis                        2020-07-20 23:59:00  Research           $25,000        648           False  \n",
            "m5-forecasting-accuracy                           2020-06-30 23:59:00  Featured           $50,000       5222            True  \n",
            "m5-forecasting-uncertainty                        2020-06-30 23:59:00  Featured           $50,000        764           False  \n",
            "trends-assessment-prediction                      2020-06-29 23:59:00  Research           $25,000        938            True  \n",
            "jigsaw-multilingual-toxic-comment-classification  2020-06-22 23:59:00  Featured           $50,000       1625           False  \n"
          ],
          "name": "stdout"
        }
      ]
    },
    {
      "cell_type": "code",
      "metadata": {
        "id": "Tq6zRI5i5Ner",
        "colab_type": "code",
        "colab": {}
      },
      "source": [
        "competition_name=\"prostate-cancer-grade-assessment\""
      ],
      "execution_count": 13,
      "outputs": []
    },
    {
      "cell_type": "code",
      "metadata": {
        "id": "14LHDTvX3rd3",
        "colab_type": "code",
        "colab": {
          "base_uri": "https://localhost:8080/",
          "height": 1000
        },
        "outputId": "f7287ad0-7a01-4c95-c9a9-1d2a367f6846"
      },
      "source": [
        "! kaggle competitions download -c $competition_name"
      ],
      "execution_count": 14,
      "outputs": [
        {
          "output_type": "stream",
          "text": [
            "Warning: Looks like you're using an outdated API Version, please consider updating (server 1.5.6 / client 1.5.4)\n",
            "Downloading 002a4db09dad406c85505a00fb6f6144.tiff.zip to /content\n",
            " 44% 9.00M/20.6M [00:00<00:00, 14.5MB/s]\n",
            "100% 20.6M/20.6M [00:00<00:00, 28.2MB/s]\n",
            "Downloading 001d865e65ef5d2579c190a0e0350d8f.tiff.zip to /content\n",
            " 54% 18.0M/33.2M [00:00<00:00, 19.5MB/s]\n",
            "100% 33.2M/33.2M [00:00<00:00, 61.5MB/s]\n",
            "Downloading 004f6b3a66189b4e88b6a01ba19d7d31.tiff.zip to /content\n",
            " 79% 17.0M/21.5M [00:00<00:00, 18.7MB/s]\n",
            "100% 21.5M/21.5M [00:00<00:00, 43.7MB/s]\n",
            "Downloading 003a91841da04a5a31f808fb5c21538a.tiff.zip to /content\n",
            " 89% 5.00M/5.62M [00:00<00:00, 26.9MB/s]\n",
            "100% 5.62M/5.62M [00:00<00:00, 27.6MB/s]\n",
            "Downloading 005e66f06bce9c2e49142536caf2f6ee.tiff.zip to /content\n",
            " 64% 17.0M/26.6M [00:00<00:00, 22.3MB/s]\n",
            "100% 26.6M/26.6M [00:00<00:00, 41.9MB/s]\n",
            "Downloading 000920ad0b612851f8e01bcc880d9b3d.tiff.zip to /content\n",
            " 77% 5.00M/6.47M [00:00<00:00, 27.7MB/s]\n",
            "100% 6.47M/6.47M [00:00<00:00, 31.7MB/s]\n",
            "Downloading 0076bcb66e46fb485f5ba432b9a1fe8a.tiff.zip to /content\n",
            " 88% 17.0M/19.4M [00:00<00:00, 24.7MB/s]\n",
            "100% 19.4M/19.4M [00:00<00:00, 33.0MB/s]\n",
            "Downloading 0018ae58b01bdadc8e347995b69f99aa.tiff.zip to /content\n",
            " 55% 9.00M/16.4M [00:00<00:00, 19.9MB/s]\n",
            "100% 16.4M/16.4M [00:00<00:00, 33.5MB/s]\n",
            "Downloading 001c62abd11fa4b57bf7a6c603a11bb9.tiff.zip to /content\n",
            " 37% 9.00M/24.3M [00:00<00:00, 20.9MB/s]\n",
            "100% 24.3M/24.3M [00:00<00:00, 45.1MB/s]\n",
            "Downloading 0005f7aaab2800f6170c399693a96917.tiff.zip to /content\n",
            " 59% 9.00M/15.4M [00:00<00:00, 15.0MB/s]\n",
            "100% 15.4M/15.4M [00:00<00:00, 24.2MB/s]\n",
            "Downloading 006f6aa35a78965c92fffd1fbd53a058.tiff.zip to /content\n",
            "  0% 0.00/2.89M [00:00<?, ?B/s]\n",
            "100% 2.89M/2.89M [00:00<00:00, 96.2MB/s]\n",
            "Downloading 0068d4c7529e34fd4c9da863ce01a161.tiff.zip to /content\n",
            " 87% 5.00M/5.73M [00:00<00:00, 19.0MB/s]\n",
            "100% 5.73M/5.73M [00:00<00:00, 19.1MB/s]\n",
            "Downloading 0032bfa835ce0f43a92ae0bbab6871cb.tiff.zip to /content\n",
            " 35% 5.00M/14.3M [00:00<00:00, 11.4MB/s]\n",
            "100% 14.3M/14.3M [00:00<00:00, 26.5MB/s]\n",
            "Downloading 003046e27c8ead3e3db155780dc5498e.tiff.zip to /content\n",
            "100% 20.0M/20.0M [00:00<00:00, 22.7MB/s]\n",
            "100% 20.0M/20.0M [00:00<00:00, 45.2MB/s]\n",
            "Downloading 003d4dd6bd61221ebc0bfb9350db333f.tiff.zip to /content\n",
            " 31% 5.00M/16.0M [00:00<00:00, 11.7MB/s]\n",
            "100% 16.0M/16.0M [00:00<00:00, 32.5MB/s]\n",
            "Downloading 004dd32d9cd167d9cc31c13b704498af.tiff.zip to /content\n",
            " 53% 9.00M/17.0M [00:00<00:00, 16.2MB/s]\n",
            "100% 17.0M/17.0M [00:00<00:00, 31.5MB/s]\n",
            "Downloading 007433133235efc27a39f11df6940829.tiff.zip to /content\n",
            " 49% 5.00M/10.2M [00:00<00:00, 14.4MB/s]\n",
            "100% 10.2M/10.2M [00:00<00:00, 25.8MB/s]\n",
            "Downloading 006f4d8d3556dd21f6424202c2d294a9.tiff.zip to /content\n",
            " 68% 9.00M/13.2M [00:00<00:00, 14.7MB/s]\n",
            "100% 13.2M/13.2M [00:00<00:00, 19.4MB/s]\n",
            "Downloading 004391d48d58b18156f811087cd38abf.tiff.zip to /content\n",
            " 22% 5.00M/22.5M [00:00<00:01, 11.6MB/s]\n",
            "100% 22.5M/22.5M [00:00<00:00, 41.7MB/s]\n",
            "Downloading 00412139e6b04d1e1cee8421f38f6e90.tiff.zip to /content\n",
            " 57% 5.00M/8.79M [00:00<00:00, 16.2MB/s]\n",
            "100% 8.79M/8.79M [00:00<00:00, 25.2MB/s]\n",
            "Downloading 0076bcb66e46fb485f5ba432b9a1fe8a_mask.tiff.zip to /content\n",
            "  0% 0.00/1.10M [00:00<?, ?B/s]\n",
            "100% 1.10M/1.10M [00:00<00:00, 74.8MB/s]\n",
            "Downloading 006f6aa35a78965c92fffd1fbd53a058_mask.tiff to /content\n",
            "  0% 0.00/404k [00:00<?, ?B/s]\n",
            "100% 404k/404k [00:00<00:00, 134MB/s]\n",
            "Downloading 007433133235efc27a39f11df6940829_mask.tiff.zip to /content\n",
            "  0% 0.00/644k [00:00<?, ?B/s]\n",
            "100% 644k/644k [00:00<00:00, 85.8MB/s]\n",
            "Downloading 006f4d8d3556dd21f6424202c2d294a9_mask.tiff.zip to /content\n",
            "  0% 0.00/573k [00:00<?, ?B/s]\n",
            "100% 573k/573k [00:00<00:00, 79.0MB/s]\n",
            "Downloading 001c62abd11fa4b57bf7a6c603a11bb9_mask.tiff.zip to /content\n",
            "  0% 0.00/604k [00:00<?, ?B/s]\n",
            "100% 604k/604k [00:00<00:00, 84.1MB/s]\n",
            "Downloading 004f6b3a66189b4e88b6a01ba19d7d31_mask.tiff.zip to /content\n",
            "  0% 0.00/461k [00:00<?, ?B/s]\n",
            "100% 461k/461k [00:00<00:00, 65.5MB/s]\n",
            "Downloading 003d4dd6bd61221ebc0bfb9350db333f_mask.tiff.zip to /content\n",
            "  0% 0.00/352k [00:00<?, ?B/s]\n",
            "100% 352k/352k [00:00<00:00, 115MB/s]\n",
            "Downloading 00412139e6b04d1e1cee8421f38f6e90_mask.tiff.zip to /content\n",
            "  0% 0.00/417k [00:00<?, ?B/s]\n",
            "100% 417k/417k [00:00<00:00, 132MB/s]\n",
            "Downloading 0068d4c7529e34fd4c9da863ce01a161_mask.tiff to /content\n",
            "  0% 0.00/735k [00:00<?, ?B/s]\n",
            "100% 735k/735k [00:00<00:00, 104MB/s]\n",
            "Downloading 002a4db09dad406c85505a00fb6f6144_mask.tiff.zip to /content\n",
            "  0% 0.00/763k [00:00<?, ?B/s]\n",
            "100% 763k/763k [00:00<00:00, 50.0MB/s]\n",
            "Downloading 0018ae58b01bdadc8e347995b69f99aa_mask.tiff.zip to /content\n",
            "  0% 0.00/1.36M [00:00<?, ?B/s]\n",
            "100% 1.36M/1.36M [00:00<00:00, 91.5MB/s]\n",
            "Downloading 0032bfa835ce0f43a92ae0bbab6871cb_mask.tiff.zip to /content\n",
            "  0% 0.00/351k [00:00<?, ?B/s]\n",
            "100% 351k/351k [00:00<00:00, 113MB/s]\n",
            "Downloading 003046e27c8ead3e3db155780dc5498e_mask.tiff.zip to /content\n",
            "  0% 0.00/732k [00:00<?, ?B/s]\n",
            "100% 732k/732k [00:00<00:00, 48.7MB/s]\n",
            "Downloading 001d865e65ef5d2579c190a0e0350d8f_mask.tiff.zip to /content\n",
            "  0% 0.00/1.34M [00:00<?, ?B/s]\n",
            "100% 1.34M/1.34M [00:00<00:00, 86.1MB/s]\n",
            "Downloading 004dd32d9cd167d9cc31c13b704498af_mask.tiff.zip to /content\n",
            "  0% 0.00/1.22M [00:00<?, ?B/s]\n",
            "100% 1.22M/1.22M [00:00<00:00, 82.5MB/s]\n",
            "Downloading 000920ad0b612851f8e01bcc880d9b3d_mask.tiff.zip to /content\n",
            "  0% 0.00/288k [00:00<?, ?B/s]\n",
            "100% 288k/288k [00:00<00:00, 96.6MB/s]\n",
            "Downloading 0005f7aaab2800f6170c399693a96917_mask.tiff.zip to /content\n",
            "  0% 0.00/635k [00:00<?, ?B/s]\n",
            "100% 635k/635k [00:00<00:00, 84.9MB/s]\n",
            "Downloading 003a91841da04a5a31f808fb5c21538a_mask.tiff.zip to /content\n",
            "  0% 0.00/155k [00:00<?, ?B/s]\n",
            "100% 155k/155k [00:00<00:00, 50.4MB/s]\n",
            "Downloading 004391d48d58b18156f811087cd38abf_mask.tiff.zip to /content\n",
            "  0% 0.00/631k [00:00<?, ?B/s]\n",
            "100% 631k/631k [00:00<00:00, 86.6MB/s]\n",
            "Downloading 005e66f06bce9c2e49142536caf2f6ee_mask.tiff.zip to /content\n",
            "  0% 0.00/861k [00:00<?, ?B/s]\n",
            "100% 861k/861k [00:00<00:00, 57.0MB/s]\n",
            "Downloading test.csv to /content\n",
            "  0% 0.00/149 [00:00<?, ?B/s]\n",
            "100% 149/149 [00:00<00:00, 151kB/s]\n",
            "Downloading sample_submission.csv to /content\n",
            "  0% 0.00/125 [00:00<?, ?B/s]\n",
            "100% 125/125 [00:00<00:00, 110kB/s]\n",
            "Downloading train.csv to /content\n",
            "  0% 0.00/508k [00:00<?, ?B/s]\n",
            "100% 508k/508k [00:00<00:00, 161MB/s]\n"
          ],
          "name": "stdout"
        }
      ]
    },
    {
      "cell_type": "code",
      "metadata": {
        "id": "qj7mGf8x3xb8",
        "colab_type": "code",
        "colab": {}
      },
      "source": [
        "! mkdir -p $PATH/$competition_name/input\n",
        "! mkdir -p $PATH/$competition_name/output\n",
        "! mkdir -p $PATH/$competition_name/scripts\n",
        "! mkdir -p $PATH/$competition_name/models"
      ],
      "execution_count": 15,
      "outputs": []
    },
    {
      "cell_type": "code",
      "metadata": {
        "id": "e--QRdLd5vCk",
        "colab_type": "code",
        "colab": {}
      },
      "source": [
        "! mv *.zip $PATH/$competition_name/input\n",
        "! mv *.csv $PATH/$competition_name/input"
      ],
      "execution_count": 16,
      "outputs": []
    },
    {
      "cell_type": "code",
      "metadata": {
        "id": "qAvVFY445-t1",
        "colab_type": "code",
        "colab": {
          "base_uri": "https://localhost:8080/",
          "height": 1000
        },
        "outputId": "3fcb49c3-f386-4354-d3fe-9c93be4d7832"
      },
      "source": [
        "% cd $PATH/$competition_name/input\n",
        "! find . -name '*.zip' | xargs -n1 unzip"
      ],
      "execution_count": 17,
      "outputs": [
        {
          "output_type": "stream",
          "text": [
            "/content/drive/My Drive/Kaggle/prostate-cancer-grade-assessment/input2\n",
            "Archive:  ./0005f7aaab2800f6170c399693a96917_mask.tiff.zip\n",
            "  inflating: 0005f7aaab2800f6170c399693a96917_mask.tiff  \n",
            "Archive:  ./0005f7aaab2800f6170c399693a96917.tiff.zip\n",
            "  inflating: 0005f7aaab2800f6170c399693a96917.tiff  \n",
            "Archive:  ./000920ad0b612851f8e01bcc880d9b3d_mask.tiff.zip\n",
            "  inflating: 000920ad0b612851f8e01bcc880d9b3d_mask.tiff  \n",
            "Archive:  ./000920ad0b612851f8e01bcc880d9b3d.tiff.zip\n",
            "  inflating: 000920ad0b612851f8e01bcc880d9b3d.tiff  \n",
            "Archive:  ./0018ae58b01bdadc8e347995b69f99aa_mask.tiff.zip\n",
            "  inflating: 0018ae58b01bdadc8e347995b69f99aa_mask.tiff  \n",
            "Archive:  ./0018ae58b01bdadc8e347995b69f99aa.tiff.zip\n",
            "  inflating: 0018ae58b01bdadc8e347995b69f99aa.tiff  \n",
            "Archive:  ./001c62abd11fa4b57bf7a6c603a11bb9_mask.tiff.zip\n",
            "  inflating: 001c62abd11fa4b57bf7a6c603a11bb9_mask.tiff  \n",
            "Archive:  ./001c62abd11fa4b57bf7a6c603a11bb9.tiff.zip\n",
            "  inflating: 001c62abd11fa4b57bf7a6c603a11bb9.tiff  \n",
            "Archive:  ./001d865e65ef5d2579c190a0e0350d8f_mask.tiff.zip\n",
            "  inflating: 001d865e65ef5d2579c190a0e0350d8f_mask.tiff  \n",
            "Archive:  ./001d865e65ef5d2579c190a0e0350d8f.tiff.zip\n",
            "  inflating: 001d865e65ef5d2579c190a0e0350d8f.tiff  \n",
            "Archive:  ./002a4db09dad406c85505a00fb6f6144_mask.tiff.zip\n",
            "  inflating: 002a4db09dad406c85505a00fb6f6144_mask.tiff  \n",
            "Archive:  ./002a4db09dad406c85505a00fb6f6144.tiff.zip\n",
            "  inflating: 002a4db09dad406c85505a00fb6f6144.tiff  \n",
            "Archive:  ./003046e27c8ead3e3db155780dc5498e_mask.tiff.zip\n",
            "  inflating: 003046e27c8ead3e3db155780dc5498e_mask.tiff  \n",
            "Archive:  ./003046e27c8ead3e3db155780dc5498e.tiff.zip\n",
            "  inflating: 003046e27c8ead3e3db155780dc5498e.tiff  \n",
            "Archive:  ./0032bfa835ce0f43a92ae0bbab6871cb_mask.tiff.zip\n",
            "  inflating: 0032bfa835ce0f43a92ae0bbab6871cb_mask.tiff  \n",
            "Archive:  ./0032bfa835ce0f43a92ae0bbab6871cb.tiff.zip\n",
            "  inflating: 0032bfa835ce0f43a92ae0bbab6871cb.tiff  \n",
            "Archive:  ./003a91841da04a5a31f808fb5c21538a_mask.tiff.zip\n",
            "  inflating: 003a91841da04a5a31f808fb5c21538a_mask.tiff  \n",
            "Archive:  ./003a91841da04a5a31f808fb5c21538a.tiff.zip\n",
            "  inflating: 003a91841da04a5a31f808fb5c21538a.tiff  \n",
            "Archive:  ./003d4dd6bd61221ebc0bfb9350db333f_mask.tiff.zip\n",
            "  inflating: 003d4dd6bd61221ebc0bfb9350db333f_mask.tiff  \n",
            "Archive:  ./003d4dd6bd61221ebc0bfb9350db333f.tiff.zip\n",
            "  inflating: 003d4dd6bd61221ebc0bfb9350db333f.tiff  \n",
            "Archive:  ./00412139e6b04d1e1cee8421f38f6e90_mask.tiff.zip\n",
            "  inflating: 00412139e6b04d1e1cee8421f38f6e90_mask.tiff  \n",
            "Archive:  ./00412139e6b04d1e1cee8421f38f6e90.tiff.zip\n",
            "  inflating: 00412139e6b04d1e1cee8421f38f6e90.tiff  \n",
            "Archive:  ./004391d48d58b18156f811087cd38abf_mask.tiff.zip\n",
            "  inflating: 004391d48d58b18156f811087cd38abf_mask.tiff  \n",
            "Archive:  ./004391d48d58b18156f811087cd38abf.tiff.zip\n",
            "  inflating: 004391d48d58b18156f811087cd38abf.tiff  \n",
            "Archive:  ./004dd32d9cd167d9cc31c13b704498af_mask.tiff.zip\n",
            "  inflating: 004dd32d9cd167d9cc31c13b704498af_mask.tiff  \n",
            "Archive:  ./004dd32d9cd167d9cc31c13b704498af.tiff.zip\n",
            "  inflating: 004dd32d9cd167d9cc31c13b704498af.tiff  \n",
            "Archive:  ./004f6b3a66189b4e88b6a01ba19d7d31_mask.tiff.zip\n",
            "  inflating: 004f6b3a66189b4e88b6a01ba19d7d31_mask.tiff  \n",
            "Archive:  ./004f6b3a66189b4e88b6a01ba19d7d31.tiff.zip\n",
            "  inflating: 004f6b3a66189b4e88b6a01ba19d7d31.tiff  \n",
            "Archive:  ./005e66f06bce9c2e49142536caf2f6ee_mask.tiff.zip\n",
            "  inflating: 005e66f06bce9c2e49142536caf2f6ee_mask.tiff  \n",
            "Archive:  ./005e66f06bce9c2e49142536caf2f6ee.tiff.zip\n",
            "  inflating: 005e66f06bce9c2e49142536caf2f6ee.tiff  \n",
            "Archive:  ./0068d4c7529e34fd4c9da863ce01a161.tiff.zip\n",
            "  inflating: 0068d4c7529e34fd4c9da863ce01a161.tiff  \n",
            "Archive:  ./006f4d8d3556dd21f6424202c2d294a9_mask.tiff.zip\n",
            "  inflating: 006f4d8d3556dd21f6424202c2d294a9_mask.tiff  \n",
            "Archive:  ./006f4d8d3556dd21f6424202c2d294a9.tiff.zip\n",
            "  inflating: 006f4d8d3556dd21f6424202c2d294a9.tiff  \n",
            "Archive:  ./006f6aa35a78965c92fffd1fbd53a058.tiff.zip\n",
            "  inflating: 006f6aa35a78965c92fffd1fbd53a058.tiff  \n",
            "Archive:  ./007433133235efc27a39f11df6940829_mask.tiff.zip\n",
            "  inflating: 007433133235efc27a39f11df6940829_mask.tiff  \n",
            "Archive:  ./007433133235efc27a39f11df6940829.tiff.zip\n",
            "  inflating: 007433133235efc27a39f11df6940829.tiff  \n",
            "Archive:  ./0076bcb66e46fb485f5ba432b9a1fe8a_mask.tiff.zip\n",
            "  inflating: 0076bcb66e46fb485f5ba432b9a1fe8a_mask.tiff  \n",
            "Archive:  ./0076bcb66e46fb485f5ba432b9a1fe8a.tiff.zip\n",
            "  inflating: 0076bcb66e46fb485f5ba432b9a1fe8a.tiff  \n"
          ],
          "name": "stdout"
        }
      ]
    },
    {
      "cell_type": "code",
      "metadata": {
        "id": "mybJ0SvGdg1Q",
        "colab_type": "code",
        "colab": {}
      },
      "source": [
        ""
      ],
      "execution_count": null,
      "outputs": []
    }
  ]
}
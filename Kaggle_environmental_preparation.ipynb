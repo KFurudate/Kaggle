{
  "nbformat": 4,
  "nbformat_minor": 0,
  "metadata": {
    "colab": {
      "name": "Kaggle_environmental_preparation.ipynb",
      "provenance": [],
      "collapsed_sections": [],
      "authorship_tag": "ABX9TyP8BL5k8TiduRwzh8ved+mQ",
      "include_colab_link": true
    },
    "kernelspec": {
      "name": "python3",
      "display_name": "Python 3"
    }
  },
  "cells": [
    {
      "cell_type": "markdown",
      "metadata": {
        "id": "view-in-github",
        "colab_type": "text"
      },
      "source": [
        "<a href=\"https://colab.research.google.com/github/KFurudate/Kaggle/blob/master/Kaggle_environmental_preparation.ipynb\" target=\"_parent\"><img src=\"https://colab.research.google.com/assets/colab-badge.svg\" alt=\"Open In Colab\"/></a>"
      ]
    },
    {
      "cell_type": "code",
      "metadata": {
        "id": "lkapD68m3I3m",
        "colab_type": "code",
        "colab": {}
      },
      "source": [
        "from google.colab import drive\n",
        "drive.mount('/content/drive')"
      ],
      "execution_count": 0,
      "outputs": []
    },
    {
      "cell_type": "code",
      "metadata": {
        "id": "dzZf5l5i5DFA",
        "colab_type": "code",
        "colab": {}
      },
      "source": [
        "! PATH=/content/drive/My\\ Drive/Kaggle/"
      ],
      "execution_count": 0,
      "outputs": []
    },
    {
      "cell_type": "code",
      "metadata": {
        "id": "fmGJXz-a3gT9",
        "colab_type": "code",
        "colab": {}
      },
      "source": [
        "! ls $PATH"
      ],
      "execution_count": 0,
      "outputs": []
    },
    {
      "cell_type": "code",
      "metadata": {
        "id": "2_sCN33p3iNL",
        "colab_type": "code",
        "colab": {}
      },
      "source": [
        "! mkdir -p ~/.kaggle\n",
        "! cp ${PATH}/kaggle.json ~/.kaggle/\n",
        "! chmod 600 ~/.kaggle/kaggle.json"
      ],
      "execution_count": 0,
      "outputs": []
    },
    {
      "cell_type": "code",
      "metadata": {
        "id": "roDLcYuU3jxR",
        "colab_type": "code",
        "colab": {}
      },
      "source": [
        "! pip install -q kaggle"
      ],
      "execution_count": 0,
      "outputs": []
    },
    {
      "cell_type": "code",
      "metadata": {
        "id": "aEnkg8pj3oUb",
        "colab_type": "code",
        "colab": {}
      },
      "source": [
        "! kaggle competitions list"
      ],
      "execution_count": 0,
      "outputs": []
    },
    {
      "cell_type": "code",
      "metadata": {
        "id": "Tq6zRI5i5Ner",
        "colab_type": "code",
        "colab": {}
      },
      "source": [
        "! competition_name="
      ],
      "execution_count": 0,
      "outputs": []
    },
    {
      "cell_type": "code",
      "metadata": {
        "id": "14LHDTvX3rd3",
        "colab_type": "code",
        "colab": {}
      },
      "source": [
        "! kaggle competitions download -c $competition_name"
      ],
      "execution_count": 0,
      "outputs": []
    },
    {
      "cell_type": "code",
      "metadata": {
        "id": "qj7mGf8x3xb8",
        "colab_type": "code",
        "colab": {}
      },
      "source": [
        "! mkdir -p ${path}/${competition_name}/input\n",
        "! mkdir -p ${path}/${competition_name}/output\n",
        "! mkdir -p ${path}/${competition_name}/scripts"
      ],
      "execution_count": 0,
      "outputs": []
    },
    {
      "cell_type": "code",
      "metadata": {
        "id": "e--QRdLd5vCk",
        "colab_type": "code",
        "colab": {}
      },
      "source": [
        "! mv *.zip ${path}/${competition_name}/input\n",
        "! mv *.csv ${path}/${competition_name}/input"
      ],
      "execution_count": 0,
      "outputs": []
    },
    {
      "cell_type": "code",
      "metadata": {
        "id": "qAvVFY445-t1",
        "colab_type": "code",
        "colab": {}
      },
      "source": [
        "% cd ${path}/${competition_name}/input\n",
        "! find . -name '*.zip' | xargs -n1 unzip"
      ],
      "execution_count": 0,
      "outputs": []
    }
  ]
}